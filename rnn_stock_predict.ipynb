{
 "cells": [
  {
   "cell_type": "code",
   "execution_count": 1,
   "metadata": {},
   "outputs": [],
   "source": [
    "%config IPCompleter.greedy=True"
   ]
  },
  {
   "cell_type": "code",
   "execution_count": 2,
   "metadata": {},
   "outputs": [],
   "source": [
    "from __future__ import absolute_import, division, print_function, unicode_literals\n",
    "\n",
    "try:\n",
    "   # %tensorflow_version only exists in Colab.\n",
    "   %tensorflow_version 2.x\n",
    "except Exception:\n",
    " pass\n",
    "\n",
    "import tensorflow as tf\n",
    "\n",
    "import numpy as np\n",
    "import pandas as pd\n",
    "import os\n",
    "import time\n",
    "\n",
    "import seaborn as sns\n",
    "\n",
    "%matplotlib inline\n",
    "import matplotlib.pyplot as plt"
   ]
  },
  {
   "cell_type": "code",
   "execution_count": 3,
   "metadata": {},
   "outputs": [],
   "source": [
    "# Importing the training set (1258, 6)\n",
    "dataset_train = pd.read_csv('Google_Stock_Price_Train.csv') \n",
    "#index slice dataFrame : all row, column index 1=='open'(instead 1 -> 1:2) \n",
    "training_set = dataset_train.iloc[:, 1:2].values #Open colum data"
   ]
  },
  {
   "cell_type": "code",
   "execution_count": 4,
   "metadata": {},
   "outputs": [
    {
     "name": "stdout",
     "output_type": "stream",
     "text": [
      "(1258, 6)\n"
     ]
    },
    {
     "data": {
      "text/html": [
       "<div>\n",
       "<style scoped>\n",
       "    .dataframe tbody tr th:only-of-type {\n",
       "        vertical-align: middle;\n",
       "    }\n",
       "\n",
       "    .dataframe tbody tr th {\n",
       "        vertical-align: top;\n",
       "    }\n",
       "\n",
       "    .dataframe thead th {\n",
       "        text-align: right;\n",
       "    }\n",
       "</style>\n",
       "<table border=\"1\" class=\"dataframe\">\n",
       "  <thead>\n",
       "    <tr style=\"text-align: right;\">\n",
       "      <th></th>\n",
       "      <th>Date</th>\n",
       "      <th>Open</th>\n",
       "      <th>High</th>\n",
       "      <th>Low</th>\n",
       "      <th>Close</th>\n",
       "      <th>Volume</th>\n",
       "    </tr>\n",
       "  </thead>\n",
       "  <tbody>\n",
       "    <tr>\n",
       "      <th>0</th>\n",
       "      <td>1/3/2012</td>\n",
       "      <td>325.25</td>\n",
       "      <td>332.83</td>\n",
       "      <td>324.97</td>\n",
       "      <td>663.59</td>\n",
       "      <td>7,380,500</td>\n",
       "    </tr>\n",
       "    <tr>\n",
       "      <th>1</th>\n",
       "      <td>1/4/2012</td>\n",
       "      <td>331.27</td>\n",
       "      <td>333.87</td>\n",
       "      <td>329.08</td>\n",
       "      <td>666.45</td>\n",
       "      <td>5,749,400</td>\n",
       "    </tr>\n",
       "    <tr>\n",
       "      <th>2</th>\n",
       "      <td>1/5/2012</td>\n",
       "      <td>329.83</td>\n",
       "      <td>330.75</td>\n",
       "      <td>326.89</td>\n",
       "      <td>657.21</td>\n",
       "      <td>6,590,300</td>\n",
       "    </tr>\n",
       "    <tr>\n",
       "      <th>3</th>\n",
       "      <td>1/6/2012</td>\n",
       "      <td>328.34</td>\n",
       "      <td>328.77</td>\n",
       "      <td>323.68</td>\n",
       "      <td>648.24</td>\n",
       "      <td>5,405,900</td>\n",
       "    </tr>\n",
       "    <tr>\n",
       "      <th>4</th>\n",
       "      <td>1/9/2012</td>\n",
       "      <td>322.04</td>\n",
       "      <td>322.29</td>\n",
       "      <td>309.46</td>\n",
       "      <td>620.76</td>\n",
       "      <td>11,688,800</td>\n",
       "    </tr>\n",
       "  </tbody>\n",
       "</table>\n",
       "</div>"
      ],
      "text/plain": [
       "       Date    Open    High     Low   Close      Volume\n",
       "0  1/3/2012  325.25  332.83  324.97  663.59   7,380,500\n",
       "1  1/4/2012  331.27  333.87  329.08  666.45   5,749,400\n",
       "2  1/5/2012  329.83  330.75  326.89  657.21   6,590,300\n",
       "3  1/6/2012  328.34  328.77  323.68  648.24   5,405,900\n",
       "4  1/9/2012  322.04  322.29  309.46  620.76  11,688,800"
      ]
     },
     "execution_count": 4,
     "metadata": {},
     "output_type": "execute_result"
    }
   ],
   "source": [
    "print(dataset_train.shape)\n",
    "dataset_train.head()"
   ]
  },
  {
   "cell_type": "code",
   "execution_count": 5,
   "metadata": {},
   "outputs": [
    {
     "name": "stdout",
     "output_type": "stream",
     "text": [
      "(1258, 1)\n"
     ]
    },
    {
     "data": {
      "text/plain": [
       "array([[325.25],\n",
       "       [331.27],\n",
       "       [329.83],\n",
       "       ...,\n",
       "       [793.7 ],\n",
       "       [783.33],\n",
       "       [782.75]])"
      ]
     },
     "execution_count": 5,
     "metadata": {},
     "output_type": "execute_result"
    }
   ],
   "source": [
    "print(training_set.shape)\n",
    "training_set #numpy.ndarray"
   ]
  },
  {
   "cell_type": "code",
   "execution_count": 6,
   "metadata": {},
   "outputs": [],
   "source": [
    "# Feature Scaling\n",
    "from sklearn.preprocessing import MinMaxScaler\n",
    "# sc = MinMaxScaler(feature_range = (0, 1))\n",
    "sc = MinMaxScaler()\n",
    "\n",
    "training_set_scaled = sc.fit_transform(training_set)"
   ]
  },
  {
   "cell_type": "code",
   "execution_count": 7,
   "metadata": {},
   "outputs": [
    {
     "data": {
      "text/plain": [
       "1197"
      ]
     },
     "execution_count": 7,
     "metadata": {},
     "output_type": "execute_result"
    }
   ],
   "source": [
    " 1257-60"
   ]
  },
  {
   "cell_type": "code",
   "execution_count": 8,
   "metadata": {},
   "outputs": [
    {
     "data": {
      "text/plain": [
       "60"
      ]
     },
     "execution_count": 8,
     "metadata": {},
     "output_type": "execute_result"
    }
   ],
   "source": [
    " 1257-1197"
   ]
  },
  {
   "cell_type": "code",
   "execution_count": 9,
   "metadata": {},
   "outputs": [
    {
     "name": "stdout",
     "output_type": "stream",
     "text": [
      "(1258, 1)\n"
     ]
    },
    {
     "data": {
      "text/plain": [
       "array([[0.08581368],\n",
       "       [0.09701243],\n",
       "       [0.09433366],\n",
       "       ...,\n",
       "       [0.95725128],\n",
       "       [0.93796041],\n",
       "       [0.93688146]])"
      ]
     },
     "execution_count": 9,
     "metadata": {},
     "output_type": "execute_result"
    }
   ],
   "source": [
    "print(training_set_scaled.shape)\n",
    "training_set_scaled # 2-d np.array"
   ]
  },
  {
   "cell_type": "code",
   "execution_count": 33,
   "metadata": {},
   "outputs": [
    {
     "name": "stdout",
     "output_type": "stream",
     "text": [
      "(1258,)\n"
     ]
    },
    {
     "data": {
      "text/plain": [
       "array([0.08581368, 0.09701243, 0.09433366, ..., 0.95725128, 0.93796041,\n",
       "       0.93688146])"
      ]
     },
     "execution_count": 33,
     "metadata": {},
     "output_type": "execute_result"
    }
   ],
   "source": [
    "print(training_set_scaled[:,0].shape)\n",
    "i [:,0] #make 1-d np.array with 60 elements"
   ]
  },
  {
   "cell_type": "code",
   "execution_count": 60,
   "metadata": {},
   "outputs": [
    {
     "name": "stdout",
     "output_type": "stream",
     "text": [
      "* i :  60\n",
      "*training_set_scaled[0:60, 0] \n",
      "\n",
      "[0.08581368 0.09701243 0.09433366 0.09156187 0.07984225 0.0643277\n",
      " 0.0585423  0.06568569 0.06109085 0.06639259 0.0614257  0.07474514\n",
      " 0.02797827 0.02379269 0.02409033 0.0159238  0.01078949 0.00967334\n",
      " 0.01642607 0.02100231 0.02280676 0.02273235 0.02810849 0.03212665\n",
      " 0.0433812  0.04475779 0.04790163 0.0440695  0.04648783 0.04745517\n",
      " 0.04873875 0.03936305 0.04137213 0.04034898 0.04784582 0.04325099\n",
      " 0.04356723 0.04286033 0.04602277 0.05398467 0.05738894 0.05714711\n",
      " 0.05569611 0.04421832 0.04514845 0.04605997 0.04412531 0.03675869\n",
      " 0.04486941 0.05065481 0.05214302 0.05612397 0.05818885 0.06540665\n",
      " 0.06882953 0.07243843 0.07993526 0.07846566 0.08034452 0.08497656]\n",
      "*X_train1.append(training_set_scaled[0:60, 0])\n",
      "* X_train1 - number of appended list :  1\n",
      "----------------------------------------------------\n",
      "\n",
      "**training_set_scaled[60, 0]\n",
      "0.08627874097775134\n",
      "**y_train1.append(training_set_scaled[60, 0]) \n",
      "** y_train1 - number of appended list :  1\n",
      "================================================================\n",
      "* i :  61\n",
      "*training_set_scaled[1:61, 0] \n",
      "\n",
      "[0.09701243 0.09433366 0.09156187 0.07984225 0.0643277  0.0585423\n",
      " 0.06568569 0.06109085 0.06639259 0.0614257  0.07474514 0.02797827\n",
      " 0.02379269 0.02409033 0.0159238  0.01078949 0.00967334 0.01642607\n",
      " 0.02100231 0.02280676 0.02273235 0.02810849 0.03212665 0.0433812\n",
      " 0.04475779 0.04790163 0.0440695  0.04648783 0.04745517 0.04873875\n",
      " 0.03936305 0.04137213 0.04034898 0.04784582 0.04325099 0.04356723\n",
      " 0.04286033 0.04602277 0.05398467 0.05738894 0.05714711 0.05569611\n",
      " 0.04421832 0.04514845 0.04605997 0.04412531 0.03675869 0.04486941\n",
      " 0.05065481 0.05214302 0.05612397 0.05818885 0.06540665 0.06882953\n",
      " 0.07243843 0.07993526 0.07846566 0.08034452 0.08497656 0.08627874]\n",
      "*X_train1.append(training_set_scaled[1:61, 0])\n",
      "* X_train1 - number of appended list :  2\n",
      "----------------------------------------------------\n",
      "\n",
      "**training_set_scaled[61, 0]\n",
      "0.08471612471166012\n",
      "**y_train1.append(training_set_scaled[61, 0]) \n",
      "** y_train1 - number of appended list :  2\n",
      "================================================================\n",
      "* i :  62\n",
      "*training_set_scaled[2:62, 0] \n",
      "\n",
      "[0.09433366 0.09156187 0.07984225 0.0643277  0.0585423  0.06568569\n",
      " 0.06109085 0.06639259 0.0614257  0.07474514 0.02797827 0.02379269\n",
      " 0.02409033 0.0159238  0.01078949 0.00967334 0.01642607 0.02100231\n",
      " 0.02280676 0.02273235 0.02810849 0.03212665 0.0433812  0.04475779\n",
      " 0.04790163 0.0440695  0.04648783 0.04745517 0.04873875 0.03936305\n",
      " 0.04137213 0.04034898 0.04784582 0.04325099 0.04356723 0.04286033\n",
      " 0.04602277 0.05398467 0.05738894 0.05714711 0.05569611 0.04421832\n",
      " 0.04514845 0.04605997 0.04412531 0.03675869 0.04486941 0.05065481\n",
      " 0.05214302 0.05612397 0.05818885 0.06540665 0.06882953 0.07243843\n",
      " 0.07993526 0.07846566 0.08034452 0.08497656 0.08627874 0.08471612]\n",
      "*X_train1.append(training_set_scaled[2:62, 0])\n",
      "* X_train1 - number of appended list :  3\n",
      "----------------------------------------------------\n",
      "\n",
      "**training_set_scaled[62, 0]\n",
      "0.07454051640747084\n",
      "**y_train1.append(training_set_scaled[62, 0]) \n",
      "** y_train1 - number of appended list :  3\n",
      "================================================================\n",
      "* i :  63\n",
      "*training_set_scaled[3:63, 0] \n",
      "\n",
      "[0.09156187 0.07984225 0.0643277  0.0585423  0.06568569 0.06109085\n",
      " 0.06639259 0.0614257  0.07474514 0.02797827 0.02379269 0.02409033\n",
      " 0.0159238  0.01078949 0.00967334 0.01642607 0.02100231 0.02280676\n",
      " 0.02273235 0.02810849 0.03212665 0.0433812  0.04475779 0.04790163\n",
      " 0.0440695  0.04648783 0.04745517 0.04873875 0.03936305 0.04137213\n",
      " 0.04034898 0.04784582 0.04325099 0.04356723 0.04286033 0.04602277\n",
      " 0.05398467 0.05738894 0.05714711 0.05569611 0.04421832 0.04514845\n",
      " 0.04605997 0.04412531 0.03675869 0.04486941 0.05065481 0.05214302\n",
      " 0.05612397 0.05818885 0.06540665 0.06882953 0.07243843 0.07993526\n",
      " 0.07846566 0.08034452 0.08497656 0.08627874 0.08471612 0.07454052]\n",
      "*X_train1.append(training_set_scaled[3:63, 0])\n",
      "* X_train1 - number of appended list :  4\n",
      "----------------------------------------------------\n",
      "\n",
      "**training_set_scaled[63, 0]\n",
      "0.07883771113922167\n",
      "**y_train1.append(training_set_scaled[63, 0]) \n",
      "** y_train1 - number of appended list :  4\n",
      "================================================================\n",
      "* i :  64\n",
      "*training_set_scaled[4:64, 0] \n",
      "\n",
      "[0.07984225 0.0643277  0.0585423  0.06568569 0.06109085 0.06639259\n",
      " 0.0614257  0.07474514 0.02797827 0.02379269 0.02409033 0.0159238\n",
      " 0.01078949 0.00967334 0.01642607 0.02100231 0.02280676 0.02273235\n",
      " 0.02810849 0.03212665 0.0433812  0.04475779 0.04790163 0.0440695\n",
      " 0.04648783 0.04745517 0.04873875 0.03936305 0.04137213 0.04034898\n",
      " 0.04784582 0.04325099 0.04356723 0.04286033 0.04602277 0.05398467\n",
      " 0.05738894 0.05714711 0.05569611 0.04421832 0.04514845 0.04605997\n",
      " 0.04412531 0.03675869 0.04486941 0.05065481 0.05214302 0.05612397\n",
      " 0.05818885 0.06540665 0.06882953 0.07243843 0.07993526 0.07846566\n",
      " 0.08034452 0.08497656 0.08627874 0.08471612 0.07454052 0.07883771]\n",
      "*X_train1.append(training_set_scaled[4:64, 0])\n",
      "* X_train1 - number of appended list :  5\n",
      "----------------------------------------------------\n",
      "\n",
      "**training_set_scaled[64, 0]\n",
      "0.07238261775429711\n",
      "**y_train1.append(training_set_scaled[64, 0]) \n",
      "** y_train1 - number of appended list :  5\n",
      "================================================================\n"
     ]
    }
   ],
   "source": [
    "# Test -> similar generator(from tensorflow.keras.preprocessing.sequence import TimeseriesGenerator)\n",
    "# Creating a data structure('open' price) with 60 timesteps and 1 output\n",
    "# Same as generator(from tensorflow.keras.preprocessing.sequence import TimeseriesGenerator)\n",
    "X_train1 = []\n",
    "y_train1 = []\n",
    "for i in range(60, 65): #from 60 to 65-1 \n",
    "    print(\"* i : \", i)\n",
    "    X_train1.append(training_set_scaled[i-60:i, 0])#if i == 60, [0:60, 0], 61 [1:61, 0], 62 [2:62, 0],,, 64 [4:64, 0]\n",
    "    print(f\"*training_set_scaled[{i-60}:{i}, 0] \\n\") #[0:60, 0] -> [0,0],,,[59,0] -> [60,0] not incl, which is y_train.\n",
    "    print(training_set_scaled[i-60:i, 0])\n",
    "    \n",
    "    print(f\"*X_train1.append(training_set_scaled[{i-60}:{i}, 0])\")\n",
    "    print(\"* X_train1 - number of appended list : \",len(X_train1)) #list\n",
    "  \n",
    "    print(\"----------------------------------------------------\\n\")\n",
    "    y_train1.append(training_set_scaled[i, 0]) #[60,0], [61,0], [62,0],,,[64,0]\n",
    "    print(f\"**training_set_scaled[{i}, 0]\")\n",
    "    print(training_set_scaled[i, 0])\n",
    "    \n",
    "    print(f\"**y_train1.append(training_set_scaled[{i}, 0]) \")\n",
    "    print(\"** y_train1 - number of appended list : \",len(y_train1)) #list\n",
    "    \n",
    "    print(\"================================================================\")\n",
    "X_train1, y_train1 = np.array(X_train1), np.array(y_train1)\n"
   ]
  },
  {
   "cell_type": "code",
   "execution_count": 43,
   "metadata": {},
   "outputs": [
    {
     "name": "stdout",
     "output_type": "stream",
     "text": [
      "(5, 60)\n"
     ]
    },
    {
     "data": {
      "text/plain": [
       "array([[0.08581368, 0.09701243, 0.09433366, 0.09156187, 0.07984225,\n",
       "        0.0643277 , 0.0585423 , 0.06568569, 0.06109085, 0.06639259,\n",
       "        0.0614257 , 0.07474514, 0.02797827, 0.02379269, 0.02409033,\n",
       "        0.0159238 , 0.01078949, 0.00967334, 0.01642607, 0.02100231,\n",
       "        0.02280676, 0.02273235, 0.02810849, 0.03212665, 0.0433812 ,\n",
       "        0.04475779, 0.04790163, 0.0440695 , 0.04648783, 0.04745517,\n",
       "        0.04873875, 0.03936305, 0.04137213, 0.04034898, 0.04784582,\n",
       "        0.04325099, 0.04356723, 0.04286033, 0.04602277, 0.05398467,\n",
       "        0.05738894, 0.05714711, 0.05569611, 0.04421832, 0.04514845,\n",
       "        0.04605997, 0.04412531, 0.03675869, 0.04486941, 0.05065481,\n",
       "        0.05214302, 0.05612397, 0.05818885, 0.06540665, 0.06882953,\n",
       "        0.07243843, 0.07993526, 0.07846566, 0.08034452, 0.08497656],\n",
       "       [0.09701243, 0.09433366, 0.09156187, 0.07984225, 0.0643277 ,\n",
       "        0.0585423 , 0.06568569, 0.06109085, 0.06639259, 0.0614257 ,\n",
       "        0.07474514, 0.02797827, 0.02379269, 0.02409033, 0.0159238 ,\n",
       "        0.01078949, 0.00967334, 0.01642607, 0.02100231, 0.02280676,\n",
       "        0.02273235, 0.02810849, 0.03212665, 0.0433812 , 0.04475779,\n",
       "        0.04790163, 0.0440695 , 0.04648783, 0.04745517, 0.04873875,\n",
       "        0.03936305, 0.04137213, 0.04034898, 0.04784582, 0.04325099,\n",
       "        0.04356723, 0.04286033, 0.04602277, 0.05398467, 0.05738894,\n",
       "        0.05714711, 0.05569611, 0.04421832, 0.04514845, 0.04605997,\n",
       "        0.04412531, 0.03675869, 0.04486941, 0.05065481, 0.05214302,\n",
       "        0.05612397, 0.05818885, 0.06540665, 0.06882953, 0.07243843,\n",
       "        0.07993526, 0.07846566, 0.08034452, 0.08497656, 0.08627874],\n",
       "       [0.09433366, 0.09156187, 0.07984225, 0.0643277 , 0.0585423 ,\n",
       "        0.06568569, 0.06109085, 0.06639259, 0.0614257 , 0.07474514,\n",
       "        0.02797827, 0.02379269, 0.02409033, 0.0159238 , 0.01078949,\n",
       "        0.00967334, 0.01642607, 0.02100231, 0.02280676, 0.02273235,\n",
       "        0.02810849, 0.03212665, 0.0433812 , 0.04475779, 0.04790163,\n",
       "        0.0440695 , 0.04648783, 0.04745517, 0.04873875, 0.03936305,\n",
       "        0.04137213, 0.04034898, 0.04784582, 0.04325099, 0.04356723,\n",
       "        0.04286033, 0.04602277, 0.05398467, 0.05738894, 0.05714711,\n",
       "        0.05569611, 0.04421832, 0.04514845, 0.04605997, 0.04412531,\n",
       "        0.03675869, 0.04486941, 0.05065481, 0.05214302, 0.05612397,\n",
       "        0.05818885, 0.06540665, 0.06882953, 0.07243843, 0.07993526,\n",
       "        0.07846566, 0.08034452, 0.08497656, 0.08627874, 0.08471612],\n",
       "       [0.09156187, 0.07984225, 0.0643277 , 0.0585423 , 0.06568569,\n",
       "        0.06109085, 0.06639259, 0.0614257 , 0.07474514, 0.02797827,\n",
       "        0.02379269, 0.02409033, 0.0159238 , 0.01078949, 0.00967334,\n",
       "        0.01642607, 0.02100231, 0.02280676, 0.02273235, 0.02810849,\n",
       "        0.03212665, 0.0433812 , 0.04475779, 0.04790163, 0.0440695 ,\n",
       "        0.04648783, 0.04745517, 0.04873875, 0.03936305, 0.04137213,\n",
       "        0.04034898, 0.04784582, 0.04325099, 0.04356723, 0.04286033,\n",
       "        0.04602277, 0.05398467, 0.05738894, 0.05714711, 0.05569611,\n",
       "        0.04421832, 0.04514845, 0.04605997, 0.04412531, 0.03675869,\n",
       "        0.04486941, 0.05065481, 0.05214302, 0.05612397, 0.05818885,\n",
       "        0.06540665, 0.06882953, 0.07243843, 0.07993526, 0.07846566,\n",
       "        0.08034452, 0.08497656, 0.08627874, 0.08471612, 0.07454052],\n",
       "       [0.07984225, 0.0643277 , 0.0585423 , 0.06568569, 0.06109085,\n",
       "        0.06639259, 0.0614257 , 0.07474514, 0.02797827, 0.02379269,\n",
       "        0.02409033, 0.0159238 , 0.01078949, 0.00967334, 0.01642607,\n",
       "        0.02100231, 0.02280676, 0.02273235, 0.02810849, 0.03212665,\n",
       "        0.0433812 , 0.04475779, 0.04790163, 0.0440695 , 0.04648783,\n",
       "        0.04745517, 0.04873875, 0.03936305, 0.04137213, 0.04034898,\n",
       "        0.04784582, 0.04325099, 0.04356723, 0.04286033, 0.04602277,\n",
       "        0.05398467, 0.05738894, 0.05714711, 0.05569611, 0.04421832,\n",
       "        0.04514845, 0.04605997, 0.04412531, 0.03675869, 0.04486941,\n",
       "        0.05065481, 0.05214302, 0.05612397, 0.05818885, 0.06540665,\n",
       "        0.06882953, 0.07243843, 0.07993526, 0.07846566, 0.08034452,\n",
       "        0.08497656, 0.08627874, 0.08471612, 0.07454052, 0.07883771]])"
      ]
     },
     "execution_count": 43,
     "metadata": {},
     "output_type": "execute_result"
    }
   ],
   "source": [
    "print(X_train1.shape) #np.array\n",
    "X_train1"
   ]
  },
  {
   "cell_type": "code",
   "execution_count": 52,
   "metadata": {},
   "outputs": [
    {
     "name": "stdout",
     "output_type": "stream",
     "text": [
      "(5,)\n"
     ]
    },
    {
     "data": {
      "text/plain": [
       "array([0.08627874, 0.08471612, 0.07454052, 0.07883771, 0.07238262])"
      ]
     },
     "execution_count": 52,
     "metadata": {},
     "output_type": "execute_result"
    }
   ],
   "source": [
    "print(y_train1.shape) #np.array\n",
    "y_train1"
   ]
  },
  {
   "cell_type": "code",
   "execution_count": 11,
   "metadata": {},
   "outputs": [],
   "source": [
    "# Creating a data structure('open' price) with 60 timesteps and 1 output\n",
    "X_train = []\n",
    "y_train = []\n",
    "for i in range(60, 1258): #from 60 to 1258-1 \n",
    "    X_train.append(training_set_scaled[i-60:i, 0])#if i == 60, [0:60, 0], 61 [1:61, 0], 62 [2:62, 0],,, 1257 [1197:1257, 0]\n",
    "    y_train.append(training_set_scaled[i, 0]) #[60,0], [61,0], [62,0],,,[1257,0]\n",
    "X_train, y_train = np.array(X_train), np.array(y_train)\n"
   ]
  },
  {
   "cell_type": "code",
   "execution_count": 12,
   "metadata": {},
   "outputs": [
    {
     "name": "stdout",
     "output_type": "stream",
     "text": [
      "(1198, 60)\n"
     ]
    },
    {
     "data": {
      "text/plain": [
       "array([[0.08581368, 0.09701243, 0.09433366, ..., 0.07846566, 0.08034452,\n",
       "        0.08497656],\n",
       "       [0.09701243, 0.09433366, 0.09156187, ..., 0.08034452, 0.08497656,\n",
       "        0.08627874],\n",
       "       [0.09433366, 0.09156187, 0.07984225, ..., 0.08497656, 0.08627874,\n",
       "        0.08471612],\n",
       "       ...,\n",
       "       [0.92106928, 0.92438053, 0.93048218, ..., 0.95475854, 0.95204256,\n",
       "        0.95163331],\n",
       "       [0.92438053, 0.93048218, 0.9299055 , ..., 0.95204256, 0.95163331,\n",
       "        0.95725128],\n",
       "       [0.93048218, 0.9299055 , 0.93113327, ..., 0.95163331, 0.95725128,\n",
       "        0.93796041]])"
      ]
     },
     "execution_count": 12,
     "metadata": {},
     "output_type": "execute_result"
    }
   ],
   "source": [
    "print(X_train.shape) \n",
    "X_train # scaled 'open' price with 60 time stamp"
   ]
  },
  {
   "cell_type": "code",
   "execution_count": 13,
   "metadata": {},
   "outputs": [
    {
     "name": "stdout",
     "output_type": "stream",
     "text": [
      "(1198,)\n"
     ]
    },
    {
     "data": {
      "text/plain": [
       "array([0.08627874, 0.08471612, 0.07454052, ..., 0.95725128, 0.93796041,\n",
       "       0.93688146])"
      ]
     },
     "execution_count": 13,
     "metadata": {},
     "output_type": "execute_result"
    }
   ],
   "source": [
    "print(y_train.shape)\n",
    "y_train"
   ]
  },
  {
   "cell_type": "code",
   "execution_count": 14,
   "metadata": {},
   "outputs": [],
   "source": [
    "# Reshaping:(1198, 60) -> (1198, 60, 1)\n",
    "X_train = np.reshape(X_train, (X_train.shape[0], X_train.shape[1], 1)) #(1198,60,1)"
   ]
  },
  {
   "cell_type": "code",
   "execution_count": 15,
   "metadata": {},
   "outputs": [],
   "source": [
    "# Part 2 - Building the RNN\n",
    "\n",
    "# Importing the Keras libraries and packages\n",
    "from tensorflow.keras.models import Sequential\n",
    "# from tensorflow.keras.layers import Dense\n",
    "# from tensorflow.keras.layers import LSTM\n",
    "# from tensorflow.keras.layers import Dropout\n",
    "from tensorflow.keras.layers import Dense, LSTM, Dropout"
   ]
  },
  {
   "cell_type": "code",
   "execution_count": 16,
   "metadata": {},
   "outputs": [],
   "source": [
    "# Initialising the RNN\n",
    "regressor = Sequential()"
   ]
  },
  {
   "cell_type": "code",
   "execution_count": 17,
   "metadata": {},
   "outputs": [],
   "source": [
    "# Adding the first LSTM layer and some Dropout regularisation\n",
    "regressor.add(LSTM(units = 50, return_sequences = True, input_shape = (X_train.shape[1], 1))) # 60,1\n",
    "regressor.add(Dropout(0.2))"
   ]
  },
  {
   "cell_type": "code",
   "execution_count": 18,
   "metadata": {},
   "outputs": [],
   "source": [
    "# Adding a second LSTM layer and some Dropout regularisation\n",
    "regressor.add(LSTM(units = 50, return_sequences = True))\n",
    "regressor.add(Dropout(0.2))"
   ]
  },
  {
   "cell_type": "code",
   "execution_count": 19,
   "metadata": {},
   "outputs": [],
   "source": [
    "# Adding a third LSTM layer and some Dropout regularisation\n",
    "regressor.add(LSTM(units = 50, return_sequences = True))\n",
    "regressor.add(Dropout(0.2))"
   ]
  },
  {
   "cell_type": "code",
   "execution_count": 20,
   "metadata": {},
   "outputs": [],
   "source": [
    "# Adding a fourth LSTM layer and some Dropout regularisation\n",
    "regressor.add(LSTM(units = 50))\n",
    "regressor.add(Dropout(0.2))"
   ]
  },
  {
   "cell_type": "code",
   "execution_count": 21,
   "metadata": {},
   "outputs": [],
   "source": [
    "# Adding the output layer\n",
    "regressor.add(Dense(units = 1))"
   ]
  },
  {
   "cell_type": "code",
   "execution_count": 22,
   "metadata": {},
   "outputs": [],
   "source": [
    "# Compiling the RNN\n",
    "regressor.compile(optimizer = 'adam', loss = 'mean_squared_error')"
   ]
  },
  {
   "cell_type": "code",
   "execution_count": 23,
   "metadata": {},
   "outputs": [
    {
     "name": "stdout",
     "output_type": "stream",
     "text": [
      "Train on 1198 samples\n",
      "Epoch 1/100\n",
      "1198/1198 [==============================] - 7s 6ms/sample - loss: 0.0496\n",
      "Epoch 2/100\n",
      "1198/1198 [==============================] - 1s 701us/sample - loss: 0.0075\n",
      "Epoch 3/100\n",
      "1198/1198 [==============================] - 1s 697us/sample - loss: 0.0065\n",
      "Epoch 4/100\n",
      "1198/1198 [==============================] - 1s 712us/sample - loss: 0.0061\n",
      "Epoch 5/100\n",
      "1198/1198 [==============================] - 1s 715us/sample - loss: 0.0056\n",
      "Epoch 6/100\n",
      "1198/1198 [==============================] - 1s 692us/sample - loss: 0.0049\n",
      "Epoch 7/100\n",
      "1198/1198 [==============================] - 1s 709us/sample - loss: 0.0045\n",
      "Epoch 8/100\n",
      "1198/1198 [==============================] - 1s 706us/sample - loss: 0.0043\n",
      "Epoch 9/100\n",
      "1198/1198 [==============================] - 1s 705us/sample - loss: 0.0046\n",
      "Epoch 10/100\n",
      "1198/1198 [==============================] - 1s 700us/sample - loss: 0.0049\n",
      "Epoch 11/100\n",
      "1198/1198 [==============================] - 1s 697us/sample - loss: 0.0037\n",
      "Epoch 12/100\n",
      "1198/1198 [==============================] - 1s 683us/sample - loss: 0.0039\n",
      "Epoch 13/100\n",
      "1198/1198 [==============================] - 1s 709us/sample - loss: 0.0041\n",
      "Epoch 14/100\n",
      "1198/1198 [==============================] - 1s 711us/sample - loss: 0.0040\n",
      "Epoch 15/100\n",
      "1198/1198 [==============================] - 1s 684us/sample - loss: 0.0039\n",
      "Epoch 16/100\n",
      "1198/1198 [==============================] - 1s 677us/sample - loss: 0.0041\n",
      "Epoch 17/100\n",
      "1198/1198 [==============================] - 1s 707us/sample - loss: 0.0036\n",
      "Epoch 18/100\n",
      "1198/1198 [==============================] - 1s 702us/sample - loss: 0.0033\n",
      "Epoch 19/100\n",
      "1198/1198 [==============================] - 1s 715us/sample - loss: 0.0036\n",
      "Epoch 20/100\n",
      "1198/1198 [==============================] - 1s 700us/sample - loss: 0.0036\n",
      "Epoch 21/100\n",
      "1198/1198 [==============================] - 1s 692us/sample - loss: 0.0033\n",
      "Epoch 22/100\n",
      "1198/1198 [==============================] - 1s 693us/sample - loss: 0.0034\n",
      "Epoch 23/100\n",
      "1198/1198 [==============================] - 1s 689us/sample - loss: 0.0033\n",
      "Epoch 24/100\n",
      "1198/1198 [==============================] - 1s 692us/sample - loss: 0.0030\n",
      "Epoch 25/100\n",
      "1198/1198 [==============================] - 1s 630us/sample - loss: 0.0035\n",
      "Epoch 26/100\n",
      "1198/1198 [==============================] - 1s 582us/sample - loss: 0.0030\n",
      "Epoch 27/100\n",
      "1198/1198 [==============================] - 1s 593us/sample - loss: 0.0037\n",
      "Epoch 28/100\n",
      "1198/1198 [==============================] - 1s 689us/sample - loss: 0.0027\n",
      "Epoch 29/100\n",
      "1198/1198 [==============================] - 1s 699us/sample - loss: 0.0029\n",
      "Epoch 30/100\n",
      "1198/1198 [==============================] - 1s 682us/sample - loss: 0.0032\n",
      "Epoch 31/100\n",
      "1198/1198 [==============================] - 1s 685us/sample - loss: 0.0031\n",
      "Epoch 32/100\n",
      "1198/1198 [==============================] - 1s 683us/sample - loss: 0.0029\n",
      "Epoch 33/100\n",
      "1198/1198 [==============================] - 1s 696us/sample - loss: 0.0029\n",
      "Epoch 34/100\n",
      "1198/1198 [==============================] - 1s 675us/sample - loss: 0.0027\n",
      "Epoch 35/100\n",
      "1198/1198 [==============================] - 1s 661us/sample - loss: 0.0027\n",
      "Epoch 36/100\n",
      "1198/1198 [==============================] - 1s 638us/sample - loss: 0.0028\n",
      "Epoch 37/100\n",
      "1198/1198 [==============================] - 1s 635us/sample - loss: 0.0026\n",
      "Epoch 38/100\n",
      "1198/1198 [==============================] - 1s 664us/sample - loss: 0.0029\n",
      "Epoch 39/100\n",
      "1198/1198 [==============================] - 1s 698us/sample - loss: 0.0027\n",
      "Epoch 40/100\n",
      "1198/1198 [==============================] - 1s 691us/sample - loss: 0.0029\n",
      "Epoch 41/100\n",
      "1198/1198 [==============================] - 1s 650us/sample - loss: 0.0026\n",
      "Epoch 42/100\n",
      "1198/1198 [==============================] - 1s 692us/sample - loss: 0.0028\n",
      "Epoch 43/100\n",
      "1198/1198 [==============================] - 1s 709us/sample - loss: 0.0026\n",
      "Epoch 44/100\n",
      "1198/1198 [==============================] - 1s 713us/sample - loss: 0.0024\n",
      "Epoch 45/100\n",
      "1198/1198 [==============================] - 1s 670us/sample - loss: 0.0026\n",
      "Epoch 46/100\n",
      "1198/1198 [==============================] - 1s 710us/sample - loss: 0.0027\n",
      "Epoch 47/100\n",
      "1198/1198 [==============================] - 1s 669us/sample - loss: 0.0029\n",
      "Epoch 48/100\n",
      "1198/1198 [==============================] - 1s 675us/sample - loss: 0.0023\n",
      "Epoch 49/100\n",
      "1198/1198 [==============================] - 1s 706us/sample - loss: 0.0022\n",
      "Epoch 50/100\n",
      "1198/1198 [==============================] - 1s 665us/sample - loss: 0.0024\n",
      "Epoch 51/100\n",
      "1198/1198 [==============================] - 1s 633us/sample - loss: 0.0021\n",
      "Epoch 52/100\n",
      "1198/1198 [==============================] - 1s 697us/sample - loss: 0.0022\n",
      "Epoch 53/100\n",
      "1198/1198 [==============================] - 1s 695us/sample - loss: 0.0024\n",
      "Epoch 54/100\n",
      "1198/1198 [==============================] - 1s 686us/sample - loss: 0.0022\n",
      "Epoch 55/100\n",
      "1198/1198 [==============================] - 1s 699us/sample - loss: 0.0023\n",
      "Epoch 56/100\n",
      "1198/1198 [==============================] - 1s 676us/sample - loss: 0.0025\n",
      "Epoch 57/100\n",
      "1198/1198 [==============================] - 1s 700us/sample - loss: 0.0023\n",
      "Epoch 58/100\n",
      "1198/1198 [==============================] - 1s 707us/sample - loss: 0.0020\n",
      "Epoch 59/100\n",
      "1198/1198 [==============================] - 1s 700us/sample - loss: 0.0020\n",
      "Epoch 60/100\n",
      "1198/1198 [==============================] - 1s 711us/sample - loss: 0.0021\n",
      "Epoch 61/100\n",
      "1198/1198 [==============================] - 1s 703us/sample - loss: 0.0020\n",
      "Epoch 62/100\n",
      "1198/1198 [==============================] - 1s 696us/sample - loss: 0.0020\n",
      "Epoch 63/100\n",
      "1198/1198 [==============================] - 1s 691us/sample - loss: 0.0019\n",
      "Epoch 64/100\n",
      "1198/1198 [==============================] - 1s 681us/sample - loss: 0.0018\n",
      "Epoch 65/100\n",
      "1198/1198 [==============================] - 1s 697us/sample - loss: 0.0020\n",
      "Epoch 66/100\n",
      "1198/1198 [==============================] - 1s 702us/sample - loss: 0.0018\n",
      "Epoch 67/100\n",
      "1198/1198 [==============================] - 1s 703us/sample - loss: 0.0024\n",
      "Epoch 68/100\n",
      "1198/1198 [==============================] - 1s 700us/sample - loss: 0.0020\n",
      "Epoch 69/100\n",
      "1198/1198 [==============================] - 1s 709us/sample - loss: 0.0019\n",
      "Epoch 70/100\n",
      "1198/1198 [==============================] - 1s 678us/sample - loss: 0.0018\n",
      "Epoch 71/100\n",
      "1198/1198 [==============================] - 1s 686us/sample - loss: 0.0018\n",
      "Epoch 72/100\n",
      "1198/1198 [==============================] - 1s 695us/sample - loss: 0.0018\n",
      "Epoch 73/100\n",
      "1198/1198 [==============================] - 1s 694us/sample - loss: 0.0017\n",
      "Epoch 74/100\n",
      "1198/1198 [==============================] - 1s 713us/sample - loss: 0.0019\n",
      "Epoch 75/100\n",
      "1198/1198 [==============================] - 1s 700us/sample - loss: 0.0017\n",
      "Epoch 76/100\n",
      "1198/1198 [==============================] - 1s 693us/sample - loss: 0.0016\n",
      "Epoch 77/100\n",
      "1198/1198 [==============================] - 1s 707us/sample - loss: 0.0015\n",
      "Epoch 78/100\n",
      "1198/1198 [==============================] - 1s 691us/sample - loss: 0.0016\n",
      "Epoch 79/100\n",
      "1198/1198 [==============================] - 1s 715us/sample - loss: 0.0017\n",
      "Epoch 80/100\n",
      "1198/1198 [==============================] - 1s 706us/sample - loss: 0.0017\n",
      "Epoch 81/100\n",
      "1198/1198 [==============================] - 1s 708us/sample - loss: 0.0016\n",
      "Epoch 82/100\n",
      "1198/1198 [==============================] - 1s 698us/sample - loss: 0.0015\n",
      "Epoch 83/100\n",
      "1198/1198 [==============================] - 1s 711us/sample - loss: 0.0015\n",
      "Epoch 84/100\n",
      "1198/1198 [==============================] - 1s 718us/sample - loss: 0.0015\n",
      "Epoch 85/100\n",
      "1198/1198 [==============================] - 1s 677us/sample - loss: 0.0016\n",
      "Epoch 86/100\n",
      "1198/1198 [==============================] - 1s 702us/sample - loss: 0.0016\n",
      "Epoch 87/100\n",
      "1198/1198 [==============================] - 1s 716us/sample - loss: 0.0017\n",
      "Epoch 88/100\n",
      "1198/1198 [==============================] - 1s 703us/sample - loss: 0.0015\n",
      "Epoch 89/100\n",
      "1198/1198 [==============================] - 1s 677us/sample - loss: 0.0015\n",
      "Epoch 90/100\n",
      "1198/1198 [==============================] - 1s 692us/sample - loss: 0.0014\n",
      "Epoch 91/100\n",
      "1198/1198 [==============================] - 1s 695us/sample - loss: 0.0015\n",
      "Epoch 92/100\n",
      "1198/1198 [==============================] - 1s 718us/sample - loss: 0.0014\n",
      "Epoch 93/100\n",
      "1198/1198 [==============================] - 1s 716us/sample - loss: 0.0015\n",
      "Epoch 94/100\n",
      "1198/1198 [==============================] - 1s 722us/sample - loss: 0.0016\n",
      "Epoch 95/100\n",
      "1198/1198 [==============================] - 1s 706us/sample - loss: 0.0017\n",
      "Epoch 96/100\n",
      "1198/1198 [==============================] - 1s 704us/sample - loss: 0.0014\n",
      "Epoch 97/100\n",
      "1198/1198 [==============================] - 1s 695us/sample - loss: 0.0015\n",
      "Epoch 98/100\n",
      "1198/1198 [==============================] - 1s 699us/sample - loss: 0.0015\n",
      "Epoch 99/100\n",
      "1198/1198 [==============================] - 1s 665us/sample - loss: 0.0014\n",
      "Epoch 100/100\n",
      "1198/1198 [==============================] - 1s 719us/sample - loss: 0.0014\n"
     ]
    },
    {
     "data": {
      "text/plain": [
       "<tensorflow.python.keras.callbacks.History at 0x7f49e4056b90>"
      ]
     },
     "execution_count": 23,
     "metadata": {},
     "output_type": "execute_result"
    }
   ],
   "source": [
    "# Fitting the RNN to the Training set\n",
    "regressor.fit(X_train, y_train, epochs = 100, batch_size = 32)"
   ]
  },
  {
   "cell_type": "code",
   "execution_count": 113,
   "metadata": {},
   "outputs": [
    {
     "name": "stdout",
     "output_type": "stream",
     "text": [
      "(20, 6)\n"
     ]
    },
    {
     "data": {
      "text/html": [
       "<div>\n",
       "<style scoped>\n",
       "    .dataframe tbody tr th:only-of-type {\n",
       "        vertical-align: middle;\n",
       "    }\n",
       "\n",
       "    .dataframe tbody tr th {\n",
       "        vertical-align: top;\n",
       "    }\n",
       "\n",
       "    .dataframe thead th {\n",
       "        text-align: right;\n",
       "    }\n",
       "</style>\n",
       "<table border=\"1\" class=\"dataframe\">\n",
       "  <thead>\n",
       "    <tr style=\"text-align: right;\">\n",
       "      <th></th>\n",
       "      <th>Date</th>\n",
       "      <th>Open</th>\n",
       "      <th>High</th>\n",
       "      <th>Low</th>\n",
       "      <th>Close</th>\n",
       "      <th>Volume</th>\n",
       "    </tr>\n",
       "  </thead>\n",
       "  <tbody>\n",
       "    <tr>\n",
       "      <th>0</th>\n",
       "      <td>1/3/2017</td>\n",
       "      <td>778.81</td>\n",
       "      <td>789.63</td>\n",
       "      <td>775.80</td>\n",
       "      <td>786.14</td>\n",
       "      <td>1,657,300</td>\n",
       "    </tr>\n",
       "    <tr>\n",
       "      <th>1</th>\n",
       "      <td>1/4/2017</td>\n",
       "      <td>788.36</td>\n",
       "      <td>791.34</td>\n",
       "      <td>783.16</td>\n",
       "      <td>786.90</td>\n",
       "      <td>1,073,000</td>\n",
       "    </tr>\n",
       "    <tr>\n",
       "      <th>2</th>\n",
       "      <td>1/5/2017</td>\n",
       "      <td>786.08</td>\n",
       "      <td>794.48</td>\n",
       "      <td>785.02</td>\n",
       "      <td>794.02</td>\n",
       "      <td>1,335,200</td>\n",
       "    </tr>\n",
       "    <tr>\n",
       "      <th>3</th>\n",
       "      <td>1/6/2017</td>\n",
       "      <td>795.26</td>\n",
       "      <td>807.90</td>\n",
       "      <td>792.20</td>\n",
       "      <td>806.15</td>\n",
       "      <td>1,640,200</td>\n",
       "    </tr>\n",
       "    <tr>\n",
       "      <th>4</th>\n",
       "      <td>1/9/2017</td>\n",
       "      <td>806.40</td>\n",
       "      <td>809.97</td>\n",
       "      <td>802.83</td>\n",
       "      <td>806.65</td>\n",
       "      <td>1,272,400</td>\n",
       "    </tr>\n",
       "  </tbody>\n",
       "</table>\n",
       "</div>"
      ],
      "text/plain": [
       "       Date    Open    High     Low   Close     Volume\n",
       "0  1/3/2017  778.81  789.63  775.80  786.14  1,657,300\n",
       "1  1/4/2017  788.36  791.34  783.16  786.90  1,073,000\n",
       "2  1/5/2017  786.08  794.48  785.02  794.02  1,335,200\n",
       "3  1/6/2017  795.26  807.90  792.20  806.15  1,640,200\n",
       "4  1/9/2017  806.40  809.97  802.83  806.65  1,272,400"
      ]
     },
     "execution_count": 113,
     "metadata": {},
     "output_type": "execute_result"
    }
   ],
   "source": [
    "# Part 3 - Making the predictions and visualising the results using Test csv file.(20, 6)\n",
    "\n",
    "# Getting the real stock price of 2017\n",
    "\n",
    "# dataset_test = pd.read_csv('Google_Stock_Price_Test.csv')\n",
    "dataset_test = pd.read_csv('Google_Stock_Price_Test.csv')\n",
    "print(dataset_test.shape)\n",
    "dataset_test.head()"
   ]
  },
  {
   "cell_type": "code",
   "execution_count": 114,
   "metadata": {},
   "outputs": [
    {
     "name": "stdout",
     "output_type": "stream",
     "text": [
      "(20, 1)\n"
     ]
    },
    {
     "data": {
      "text/plain": [
       "array([[778.81],\n",
       "       [788.36],\n",
       "       [786.08],\n",
       "       [795.26],\n",
       "       [806.4 ],\n",
       "       [807.86],\n",
       "       [805.  ],\n",
       "       [807.14],\n",
       "       [807.48],\n",
       "       [807.08],\n",
       "       [805.81],\n",
       "       [805.12],\n",
       "       [806.91],\n",
       "       [807.25],\n",
       "       [822.3 ],\n",
       "       [829.62],\n",
       "       [837.81],\n",
       "       [834.71],\n",
       "       [814.66],\n",
       "       [796.86]])"
      ]
     },
     "execution_count": 114,
     "metadata": {},
     "output_type": "execute_result"
    }
   ],
   "source": [
    "real_stock_price = dataset_test.iloc[:, 1:2].values\n",
    "print(real_stock_price.shape)\n",
    "real_stock_price"
   ]
  },
  {
   "cell_type": "code",
   "execution_count": 115,
   "metadata": {},
   "outputs": [
    {
     "data": {
      "text/plain": [
       "0       325.25\n",
       "1       331.27\n",
       "2       329.83\n",
       "3       328.34\n",
       "4       322.04\n",
       "         ...  \n",
       "1253    790.90\n",
       "1254    790.68\n",
       "1255    793.70\n",
       "1256    783.33\n",
       "1257    782.75\n",
       "Name: Open, Length: 1258, dtype: float64"
      ]
     },
     "execution_count": 115,
     "metadata": {},
     "output_type": "execute_result"
    }
   ],
   "source": [
    "dataset_train['Open'] #1258"
   ]
  },
  {
   "cell_type": "code",
   "execution_count": 116,
   "metadata": {},
   "outputs": [
    {
     "data": {
      "text/plain": [
       "0     778.81\n",
       "1     788.36\n",
       "2     786.08\n",
       "3     795.26\n",
       "4     806.40\n",
       "5     807.86\n",
       "6     805.00\n",
       "7     807.14\n",
       "8     807.48\n",
       "9     807.08\n",
       "10    805.81\n",
       "11    805.12\n",
       "12    806.91\n",
       "13    807.25\n",
       "14    822.30\n",
       "15    829.62\n",
       "16    837.81\n",
       "17    834.71\n",
       "18    814.66\n",
       "19    796.86\n",
       "Name: Open, dtype: float64"
      ]
     },
     "execution_count": 116,
     "metadata": {},
     "output_type": "execute_result"
    }
   ],
   "source": [
    "dataset_test['Open'] #20"
   ]
  },
  {
   "cell_type": "code",
   "execution_count": 117,
   "metadata": {},
   "outputs": [
    {
     "name": "stdout",
     "output_type": "stream",
     "text": [
      "(1278,)\n"
     ]
    },
    {
     "data": {
      "text/plain": [
       "0     325.25\n",
       "1     331.27\n",
       "2     329.83\n",
       "3     328.34\n",
       "4     322.04\n",
       "       ...  \n",
       "15    829.62\n",
       "16    837.81\n",
       "17    834.71\n",
       "18    814.66\n",
       "19    796.86\n",
       "Name: Open, Length: 1278, dtype: float64"
      ]
     },
     "execution_count": 117,
     "metadata": {},
     "output_type": "execute_result"
    }
   ],
   "source": [
    "# Getting the predicted stock price of 2017\n",
    "dataset_total = pd.concat((dataset_train['Open'], dataset_test['Open']), axis = 0) #1258 + 20 => 1278\n",
    "print(dataset_total.shape)\n",
    "dataset_total #1278"
   ]
  },
  {
   "cell_type": "code",
   "execution_count": 118,
   "metadata": {},
   "outputs": [
    {
     "name": "stdout",
     "output_type": "stream",
     "text": [
      "1278\n",
      "20\n"
     ]
    },
    {
     "data": {
      "text/plain": [
       "1198"
      ]
     },
     "execution_count": 118,
     "metadata": {},
     "output_type": "execute_result"
    }
   ],
   "source": [
    "print(len(dataset_total))\n",
    "print(len(dataset_test))\n",
    "1278 - 20 - 60"
   ]
  },
  {
   "cell_type": "code",
   "execution_count": 125,
   "metadata": {},
   "outputs": [
    {
     "name": "stdout",
     "output_type": "stream",
     "text": [
      "(80,)\n",
      "80\n"
     ]
    },
    {
     "data": {
      "text/plain": [
       "array([779.  , 779.66, 777.71, 786.66, 783.76, 781.22, 781.65, 779.8 ,\n",
       "       787.85, 798.24, 803.3 , 795.  , 804.9 , 816.68, 806.34, 801.  ,\n",
       "       808.35, 795.47, 782.89, 778.2 , 767.25, 750.66, 774.5 , 783.4 ,\n",
       "       779.94, 791.17, 756.54, 755.6 , 746.97, 755.2 , 766.92, 771.37,\n",
       "       762.61, 772.63, 767.73, 764.26, 760.  , 771.53, 770.07, 757.44,\n",
       "       744.59, 757.71, 764.73, 761.  , 772.48, 780.  , 785.04, 793.9 ,\n",
       "       797.4 , 797.34, 800.4 , 790.22, 796.76, 795.84, 792.36, 790.9 ,\n",
       "       790.68, 793.7 , 783.33, 782.75, 778.81, 788.36, 786.08, 795.26,\n",
       "       806.4 , 807.86, 805.  , 807.14, 807.48, 807.08, 805.81, 805.12,\n",
       "       806.91, 807.25, 822.3 , 829.62, 837.81, 834.71, 814.66, 796.86])"
      ]
     },
     "execution_count": 125,
     "metadata": {},
     "output_type": "execute_result"
    }
   ],
   "source": [
    "#[1278 - 20 - 60] =>  dataset_total[1198:].values\n",
    "inputs = dataset_total[len(dataset_total) - len(dataset_test) - 60:].values\n",
    "print(inputs.shape) #1-d\n",
    "print(len(inputs))\n",
    "inputs #dataset_total[1198:].values #80"
   ]
  },
  {
   "cell_type": "code",
   "execution_count": 128,
   "metadata": {},
   "outputs": [
    {
     "name": "stdout",
     "output_type": "stream",
     "text": [
      "(80, 1)\n",
      "[[-0.5175052 ]\n",
      " [-0.51750291]\n",
      " [-0.51750966]\n",
      " [-0.51747869]\n",
      " [-0.51748873]\n",
      " [-0.51749752]\n",
      " [-0.51749603]\n",
      " [-0.51750243]\n",
      " [-0.51747457]\n",
      " [-0.51743862]\n",
      " [-0.51742111]\n",
      " [-0.51744983]\n",
      " [-0.51741557]\n",
      " [-0.5173748 ]\n",
      " [-0.51741059]\n",
      " [-0.51742907]\n",
      " [-0.51740363]\n",
      " [-0.5174482 ]\n",
      " [-0.51749174]\n",
      " [-0.51750797]\n",
      " [-0.51754586]\n",
      " [-0.51760327]\n",
      " [-0.51752077]\n",
      " [-0.51748997]\n",
      " [-0.51750195]\n",
      " [-0.51746308]\n",
      " [-0.51758292]\n",
      " [-0.51758618]\n",
      " [-0.51761604]\n",
      " [-0.51758756]\n",
      " [-0.517547  ]\n",
      " [-0.5175316 ]\n",
      " [-0.51756192]\n",
      " [-0.51752724]\n",
      " [-0.5175442 ]\n",
      " [-0.51755621]\n",
      " [-0.51757095]\n",
      " [-0.51753105]\n",
      " [-0.5175361 ]\n",
      " [-0.51757981]\n",
      " [-0.51762428]\n",
      " [-0.51757887]\n",
      " [-0.51755458]\n",
      " [-0.51756749]\n",
      " [-0.51752776]\n",
      " [-0.51750174]\n",
      " [-0.5174843 ]\n",
      " [-0.51745364]\n",
      " [-0.51744152]\n",
      " [-0.51744173]\n",
      " [-0.51743114]\n",
      " [-0.51746637]\n",
      " [-0.51744374]\n",
      " [-0.51744692]\n",
      " [-0.51745897]\n",
      " [-0.51746402]\n",
      " [-0.51746478]\n",
      " [-0.51745433]\n",
      " [-0.51749021]\n",
      " [-0.51749222]\n",
      " [-0.51750586]\n",
      " [-0.51747281]\n",
      " [-0.5174807 ]\n",
      " [-0.51744893]\n",
      " [-0.51741038]\n",
      " [-0.51740533]\n",
      " [-0.51741522]\n",
      " [-0.51740782]\n",
      " [-0.51740664]\n",
      " [-0.51740803]\n",
      " [-0.51741242]\n",
      " [-0.51741481]\n",
      " [-0.51740861]\n",
      " [-0.51740744]\n",
      " [-0.51735536]\n",
      " [-0.51733003]\n",
      " [-0.51730168]\n",
      " [-0.51731241]\n",
      " [-0.51738179]\n",
      " [-0.51744339]]\n",
      "-----------------\n",
      "(80, 1)\n"
     ]
    },
    {
     "data": {
      "text/plain": [
       "array([[-0.52019776],\n",
       "       [-0.52019775],\n",
       "       [-0.52019776],\n",
       "       [-0.52019771],\n",
       "       [-0.52019772],\n",
       "       [-0.52019774],\n",
       "       [-0.52019774],\n",
       "       [-0.52019775],\n",
       "       [-0.5201977 ],\n",
       "       [-0.52019763],\n",
       "       [-0.5201976 ],\n",
       "       [-0.52019765],\n",
       "       [-0.52019759],\n",
       "       [-0.52019751],\n",
       "       [-0.52019758],\n",
       "       [-0.52019761],\n",
       "       [-0.52019757],\n",
       "       [-0.52019765],\n",
       "       [-0.52019773],\n",
       "       [-0.52019776],\n",
       "       [-0.52019783],\n",
       "       [-0.52019794],\n",
       "       [-0.52019778],\n",
       "       [-0.52019773],\n",
       "       [-0.52019775],\n",
       "       [-0.52019768],\n",
       "       [-0.5201979 ],\n",
       "       [-0.52019791],\n",
       "       [-0.52019796],\n",
       "       [-0.52019791],\n",
       "       [-0.52019783],\n",
       "       [-0.5201978 ],\n",
       "       [-0.52019786],\n",
       "       [-0.5201978 ],\n",
       "       [-0.52019783],\n",
       "       [-0.52019785],\n",
       "       [-0.52019788],\n",
       "       [-0.5201978 ],\n",
       "       [-0.52019781],\n",
       "       [-0.52019789],\n",
       "       [-0.52019798],\n",
       "       [-0.52019789],\n",
       "       [-0.52019785],\n",
       "       [-0.52019787],\n",
       "       [-0.5201978 ],\n",
       "       [-0.52019775],\n",
       "       [-0.52019772],\n",
       "       [-0.52019766],\n",
       "       [-0.52019764],\n",
       "       [-0.52019764],\n",
       "       [-0.52019762],\n",
       "       [-0.52019768],\n",
       "       [-0.52019764],\n",
       "       [-0.52019765],\n",
       "       [-0.52019767],\n",
       "       [-0.52019768],\n",
       "       [-0.52019768],\n",
       "       [-0.52019766],\n",
       "       [-0.52019773],\n",
       "       [-0.52019773],\n",
       "       [-0.52019776],\n",
       "       [-0.52019769],\n",
       "       [-0.52019771],\n",
       "       [-0.52019765],\n",
       "       [-0.52019758],\n",
       "       [-0.52019757],\n",
       "       [-0.52019759],\n",
       "       [-0.52019757],\n",
       "       [-0.52019757],\n",
       "       [-0.52019757],\n",
       "       [-0.52019758],\n",
       "       [-0.52019759],\n",
       "       [-0.52019758],\n",
       "       [-0.52019757],\n",
       "       [-0.52019748],\n",
       "       [-0.52019743],\n",
       "       [-0.52019738],\n",
       "       [-0.5201974 ],\n",
       "       [-0.52019753],\n",
       "       [-0.52019764]])"
      ]
     },
     "execution_count": 128,
     "metadata": {},
     "output_type": "execute_result"
    }
   ],
   "source": [
    "inputs = inputs.reshape(-1,1)\n",
    "print(inputs.shape) #2-d\n",
    "print(inputs)\n",
    "print(\"-----------------\")\n",
    "inputs = sc.transform(inputs)\n",
    "print(inputs.shape)\n",
    "inputs"
   ]
  },
  {
   "cell_type": "code",
   "execution_count": 121,
   "metadata": {},
   "outputs": [
    {
     "name": "stdout",
     "output_type": "stream",
     "text": [
      "* inputs[0:60, 0] \n",
      "\n",
      "[0.9299055  0.93113327 0.92750577 0.94415507 0.93876032 0.93403527\n",
      " 0.93483518 0.9313937  0.94636878 0.96569685 0.97510976 0.95966962\n",
      " 0.97808617 1.         0.98076494 0.97083116 0.98450406 0.96054394\n",
      " 0.9371419  0.92841729 0.90804747 0.8771858  0.92153434 0.93809063\n",
      " 0.93165414 0.95254483 0.88812412 0.88637547 0.87032145 0.88563137\n",
      " 0.90743359 0.91571173 0.89941588 0.91805566 0.9089404  0.9024853\n",
      " 0.89456061 0.91600938 0.9132934  0.88979835 0.86589404 0.89030062\n",
      " 0.90335962 0.89642086 0.91777662 0.93176576 0.94114145 0.95762334\n",
      " 0.96413424 0.96402262 0.96971501 0.95077759 0.96294367 0.96123223\n",
      " 0.95475854 0.95204256 0.95163331 0.95725128 0.93796041 0.93688146]\n",
      "** X_test.append(inputs[0:60, 0]) \n",
      "\n",
      "--------------------------------------------------------------\n",
      "* inputs[1:61, 0] \n",
      "\n",
      "[0.93113327 0.92750577 0.94415507 0.93876032 0.93403527 0.93483518\n",
      " 0.9313937  0.94636878 0.96569685 0.97510976 0.95966962 0.97808617\n",
      " 1.         0.98076494 0.97083116 0.98450406 0.96054394 0.9371419\n",
      " 0.92841729 0.90804747 0.8771858  0.92153434 0.93809063 0.93165414\n",
      " 0.95254483 0.88812412 0.88637547 0.87032145 0.88563137 0.90743359\n",
      " 0.91571173 0.89941588 0.91805566 0.9089404  0.9024853  0.89456061\n",
      " 0.91600938 0.9132934  0.88979835 0.86589404 0.89030062 0.90335962\n",
      " 0.89642086 0.91777662 0.93176576 0.94114145 0.95762334 0.96413424\n",
      " 0.96402262 0.96971501 0.95077759 0.96294367 0.96123223 0.95475854\n",
      " 0.95204256 0.95163331 0.95725128 0.93796041 0.93688146 0.92955205]\n",
      "** X_test.append(inputs[1:61, 0]) \n",
      "\n",
      "--------------------------------------------------------------\n",
      "* inputs[2:62, 0] \n",
      "\n",
      "[0.92750577 0.94415507 0.93876032 0.93403527 0.93483518 0.9313937\n",
      " 0.94636878 0.96569685 0.97510976 0.95966962 0.97808617 1.\n",
      " 0.98076494 0.97083116 0.98450406 0.96054394 0.9371419  0.92841729\n",
      " 0.90804747 0.8771858  0.92153434 0.93809063 0.93165414 0.95254483\n",
      " 0.88812412 0.88637547 0.87032145 0.88563137 0.90743359 0.91571173\n",
      " 0.89941588 0.91805566 0.9089404  0.9024853  0.89456061 0.91600938\n",
      " 0.9132934  0.88979835 0.86589404 0.89030062 0.90335962 0.89642086\n",
      " 0.91777662 0.93176576 0.94114145 0.95762334 0.96413424 0.96402262\n",
      " 0.96971501 0.95077759 0.96294367 0.96123223 0.95475854 0.95204256\n",
      " 0.95163331 0.95725128 0.93796041 0.93688146 0.92955205 0.94731751]\n",
      "** X_test.append(inputs[2:62, 0]) \n",
      "\n",
      "--------------------------------------------------------------\n",
      "* inputs[3:63, 0] \n",
      "\n",
      "[0.94415507 0.93876032 0.93403527 0.93483518 0.9313937  0.94636878\n",
      " 0.96569685 0.97510976 0.95966962 0.97808617 1.         0.98076494\n",
      " 0.97083116 0.98450406 0.96054394 0.9371419  0.92841729 0.90804747\n",
      " 0.8771858  0.92153434 0.93809063 0.93165414 0.95254483 0.88812412\n",
      " 0.88637547 0.87032145 0.88563137 0.90743359 0.91571173 0.89941588\n",
      " 0.91805566 0.9089404  0.9024853  0.89456061 0.91600938 0.9132934\n",
      " 0.88979835 0.86589404 0.89030062 0.90335962 0.89642086 0.91777662\n",
      " 0.93176576 0.94114145 0.95762334 0.96413424 0.96402262 0.96971501\n",
      " 0.95077759 0.96294367 0.96123223 0.95475854 0.95204256 0.95163331\n",
      " 0.95725128 0.93796041 0.93688146 0.92955205 0.94731751 0.94307612]\n",
      "** X_test.append(inputs[3:63, 0]) \n",
      "\n",
      "--------------------------------------------------------------\n",
      "* inputs[4:64, 0] \n",
      "\n",
      "[0.93876032 0.93403527 0.93483518 0.9313937  0.94636878 0.96569685\n",
      " 0.97510976 0.95966962 0.97808617 1.         0.98076494 0.97083116\n",
      " 0.98450406 0.96054394 0.9371419  0.92841729 0.90804747 0.8771858\n",
      " 0.92153434 0.93809063 0.93165414 0.95254483 0.88812412 0.88637547\n",
      " 0.87032145 0.88563137 0.90743359 0.91571173 0.89941588 0.91805566\n",
      " 0.9089404  0.9024853  0.89456061 0.91600938 0.9132934  0.88979835\n",
      " 0.86589404 0.89030062 0.90335962 0.89642086 0.91777662 0.93176576\n",
      " 0.94114145 0.95762334 0.96413424 0.96402262 0.96971501 0.95077759\n",
      " 0.96294367 0.96123223 0.95475854 0.95204256 0.95163331 0.95725128\n",
      " 0.93796041 0.93688146 0.92955205 0.94731751 0.94307612 0.96015329]\n",
      "** X_test.append(inputs[4:64, 0]) \n",
      "\n",
      "--------------------------------------------------------------\n",
      "* inputs[5:65, 0] \n",
      "\n",
      "[0.93403527 0.93483518 0.9313937  0.94636878 0.96569685 0.97510976\n",
      " 0.95966962 0.97808617 1.         0.98076494 0.97083116 0.98450406\n",
      " 0.96054394 0.9371419  0.92841729 0.90804747 0.8771858  0.92153434\n",
      " 0.93809063 0.93165414 0.95254483 0.88812412 0.88637547 0.87032145\n",
      " 0.88563137 0.90743359 0.91571173 0.89941588 0.91805566 0.9089404\n",
      " 0.9024853  0.89456061 0.91600938 0.9132934  0.88979835 0.86589404\n",
      " 0.89030062 0.90335962 0.89642086 0.91777662 0.93176576 0.94114145\n",
      " 0.95762334 0.96413424 0.96402262 0.96971501 0.95077759 0.96294367\n",
      " 0.96123223 0.95475854 0.95204256 0.95163331 0.95725128 0.93796041\n",
      " 0.93688146 0.92955205 0.94731751 0.94307612 0.96015329 0.98087655]\n",
      "** X_test.append(inputs[5:65, 0]) \n",
      "\n",
      "--------------------------------------------------------------\n",
      "* inputs[6:66, 0] \n",
      "\n",
      "[0.93483518 0.9313937  0.94636878 0.96569685 0.97510976 0.95966962\n",
      " 0.97808617 1.         0.98076494 0.97083116 0.98450406 0.96054394\n",
      " 0.9371419  0.92841729 0.90804747 0.8771858  0.92153434 0.93809063\n",
      " 0.93165414 0.95254483 0.88812412 0.88637547 0.87032145 0.88563137\n",
      " 0.90743359 0.91571173 0.89941588 0.91805566 0.9089404  0.9024853\n",
      " 0.89456061 0.91600938 0.9132934  0.88979835 0.86589404 0.89030062\n",
      " 0.90335962 0.89642086 0.91777662 0.93176576 0.94114145 0.95762334\n",
      " 0.96413424 0.96402262 0.96971501 0.95077759 0.96294367 0.96123223\n",
      " 0.95475854 0.95204256 0.95163331 0.95725128 0.93796041 0.93688146\n",
      " 0.92955205 0.94731751 0.94307612 0.96015329 0.98087655 0.98359253]\n",
      "** X_test.append(inputs[6:66, 0]) \n",
      "\n",
      "--------------------------------------------------------------\n",
      "* inputs[7:67, 0] \n",
      "\n",
      "[0.9313937  0.94636878 0.96569685 0.97510976 0.95966962 0.97808617\n",
      " 1.         0.98076494 0.97083116 0.98450406 0.96054394 0.9371419\n",
      " 0.92841729 0.90804747 0.8771858  0.92153434 0.93809063 0.93165414\n",
      " 0.95254483 0.88812412 0.88637547 0.87032145 0.88563137 0.90743359\n",
      " 0.91571173 0.89941588 0.91805566 0.9089404  0.9024853  0.89456061\n",
      " 0.91600938 0.9132934  0.88979835 0.86589404 0.89030062 0.90335962\n",
      " 0.89642086 0.91777662 0.93176576 0.94114145 0.95762334 0.96413424\n",
      " 0.96402262 0.96971501 0.95077759 0.96294367 0.96123223 0.95475854\n",
      " 0.95204256 0.95163331 0.95725128 0.93796041 0.93688146 0.92955205\n",
      " 0.94731751 0.94307612 0.96015329 0.98087655 0.98359253 0.97827219]\n",
      "** X_test.append(inputs[7:67, 0]) \n",
      "\n",
      "--------------------------------------------------------------\n",
      "* inputs[8:68, 0] \n",
      "\n",
      "[0.94636878 0.96569685 0.97510976 0.95966962 0.97808617 1.\n",
      " 0.98076494 0.97083116 0.98450406 0.96054394 0.9371419  0.92841729\n",
      " 0.90804747 0.8771858  0.92153434 0.93809063 0.93165414 0.95254483\n",
      " 0.88812412 0.88637547 0.87032145 0.88563137 0.90743359 0.91571173\n",
      " 0.89941588 0.91805566 0.9089404  0.9024853  0.89456061 0.91600938\n",
      " 0.9132934  0.88979835 0.86589404 0.89030062 0.90335962 0.89642086\n",
      " 0.91777662 0.93176576 0.94114145 0.95762334 0.96413424 0.96402262\n",
      " 0.96971501 0.95077759 0.96294367 0.96123223 0.95475854 0.95204256\n",
      " 0.95163331 0.95725128 0.93796041 0.93688146 0.92955205 0.94731751\n",
      " 0.94307612 0.96015329 0.98087655 0.98359253 0.97827219 0.98225314]\n",
      "** X_test.append(inputs[8:68, 0]) \n",
      "\n",
      "--------------------------------------------------------------\n",
      "* inputs[9:69, 0] \n",
      "\n",
      "[0.96569685 0.97510976 0.95966962 0.97808617 1.         0.98076494\n",
      " 0.97083116 0.98450406 0.96054394 0.9371419  0.92841729 0.90804747\n",
      " 0.8771858  0.92153434 0.93809063 0.93165414 0.95254483 0.88812412\n",
      " 0.88637547 0.87032145 0.88563137 0.90743359 0.91571173 0.89941588\n",
      " 0.91805566 0.9089404  0.9024853  0.89456061 0.91600938 0.9132934\n",
      " 0.88979835 0.86589404 0.89030062 0.90335962 0.89642086 0.91777662\n",
      " 0.93176576 0.94114145 0.95762334 0.96413424 0.96402262 0.96971501\n",
      " 0.95077759 0.96294367 0.96123223 0.95475854 0.95204256 0.95163331\n",
      " 0.95725128 0.93796041 0.93688146 0.92955205 0.94731751 0.94307612\n",
      " 0.96015329 0.98087655 0.98359253 0.97827219 0.98225314 0.98288563]\n",
      "** X_test.append(inputs[9:69, 0]) \n",
      "\n",
      "--------------------------------------------------------------\n",
      "* inputs[10:70, 0] \n",
      "\n",
      "[0.97510976 0.95966962 0.97808617 1.         0.98076494 0.97083116\n",
      " 0.98450406 0.96054394 0.9371419  0.92841729 0.90804747 0.8771858\n",
      " 0.92153434 0.93809063 0.93165414 0.95254483 0.88812412 0.88637547\n",
      " 0.87032145 0.88563137 0.90743359 0.91571173 0.89941588 0.91805566\n",
      " 0.9089404  0.9024853  0.89456061 0.91600938 0.9132934  0.88979835\n",
      " 0.86589404 0.89030062 0.90335962 0.89642086 0.91777662 0.93176576\n",
      " 0.94114145 0.95762334 0.96413424 0.96402262 0.96971501 0.95077759\n",
      " 0.96294367 0.96123223 0.95475854 0.95204256 0.95163331 0.95725128\n",
      " 0.93796041 0.93688146 0.92955205 0.94731751 0.94307612 0.96015329\n",
      " 0.98087655 0.98359253 0.97827219 0.98225314 0.98288563 0.98214153]\n",
      "** X_test.append(inputs[10:70, 0]) \n",
      "\n",
      "--------------------------------------------------------------\n",
      "* inputs[11:71, 0] \n",
      "\n",
      "[0.95966962 0.97808617 1.         0.98076494 0.97083116 0.98450406\n",
      " 0.96054394 0.9371419  0.92841729 0.90804747 0.8771858  0.92153434\n",
      " 0.93809063 0.93165414 0.95254483 0.88812412 0.88637547 0.87032145\n",
      " 0.88563137 0.90743359 0.91571173 0.89941588 0.91805566 0.9089404\n",
      " 0.9024853  0.89456061 0.91600938 0.9132934  0.88979835 0.86589404\n",
      " 0.89030062 0.90335962 0.89642086 0.91777662 0.93176576 0.94114145\n",
      " 0.95762334 0.96413424 0.96402262 0.96971501 0.95077759 0.96294367\n",
      " 0.96123223 0.95475854 0.95204256 0.95163331 0.95725128 0.93796041\n",
      " 0.93688146 0.92955205 0.94731751 0.94307612 0.96015329 0.98087655\n",
      " 0.98359253 0.97827219 0.98225314 0.98288563 0.98214153 0.979779  ]\n",
      "** X_test.append(inputs[11:71, 0]) \n",
      "\n",
      "--------------------------------------------------------------\n",
      "* inputs[12:72, 0] \n",
      "\n",
      "[0.97808617 1.         0.98076494 0.97083116 0.98450406 0.96054394\n",
      " 0.9371419  0.92841729 0.90804747 0.8771858  0.92153434 0.93809063\n",
      " 0.93165414 0.95254483 0.88812412 0.88637547 0.87032145 0.88563137\n",
      " 0.90743359 0.91571173 0.89941588 0.91805566 0.9089404  0.9024853\n",
      " 0.89456061 0.91600938 0.9132934  0.88979835 0.86589404 0.89030062\n",
      " 0.90335962 0.89642086 0.91777662 0.93176576 0.94114145 0.95762334\n",
      " 0.96413424 0.96402262 0.96971501 0.95077759 0.96294367 0.96123223\n",
      " 0.95475854 0.95204256 0.95163331 0.95725128 0.93796041 0.93688146\n",
      " 0.92955205 0.94731751 0.94307612 0.96015329 0.98087655 0.98359253\n",
      " 0.97827219 0.98225314 0.98288563 0.98214153 0.979779   0.97849542]\n",
      "** X_test.append(inputs[12:72, 0]) \n",
      "\n",
      "--------------------------------------------------------------\n",
      "* inputs[13:73, 0] \n",
      "\n",
      "[1.         0.98076494 0.97083116 0.98450406 0.96054394 0.9371419\n",
      " 0.92841729 0.90804747 0.8771858  0.92153434 0.93809063 0.93165414\n",
      " 0.95254483 0.88812412 0.88637547 0.87032145 0.88563137 0.90743359\n",
      " 0.91571173 0.89941588 0.91805566 0.9089404  0.9024853  0.89456061\n",
      " 0.91600938 0.9132934  0.88979835 0.86589404 0.89030062 0.90335962\n",
      " 0.89642086 0.91777662 0.93176576 0.94114145 0.95762334 0.96413424\n",
      " 0.96402262 0.96971501 0.95077759 0.96294367 0.96123223 0.95475854\n",
      " 0.95204256 0.95163331 0.95725128 0.93796041 0.93688146 0.92955205\n",
      " 0.94731751 0.94307612 0.96015329 0.98087655 0.98359253 0.97827219\n",
      " 0.98225314 0.98288563 0.98214153 0.979779   0.97849542 0.98182528]\n",
      "** X_test.append(inputs[13:73, 0]) \n",
      "\n",
      "--------------------------------------------------------------\n",
      "* inputs[14:74, 0] \n",
      "\n",
      "[0.98076494 0.97083116 0.98450406 0.96054394 0.9371419  0.92841729\n",
      " 0.90804747 0.8771858  0.92153434 0.93809063 0.93165414 0.95254483\n",
      " 0.88812412 0.88637547 0.87032145 0.88563137 0.90743359 0.91571173\n",
      " 0.89941588 0.91805566 0.9089404  0.9024853  0.89456061 0.91600938\n",
      " 0.9132934  0.88979835 0.86589404 0.89030062 0.90335962 0.89642086\n",
      " 0.91777662 0.93176576 0.94114145 0.95762334 0.96413424 0.96402262\n",
      " 0.96971501 0.95077759 0.96294367 0.96123223 0.95475854 0.95204256\n",
      " 0.95163331 0.95725128 0.93796041 0.93688146 0.92955205 0.94731751\n",
      " 0.94307612 0.96015329 0.98087655 0.98359253 0.97827219 0.98225314\n",
      " 0.98288563 0.98214153 0.979779   0.97849542 0.98182528 0.98245777]\n",
      "** X_test.append(inputs[14:74, 0]) \n",
      "\n",
      "--------------------------------------------------------------\n",
      "* inputs[15:75, 0] \n",
      "\n",
      "[0.97083116 0.98450406 0.96054394 0.9371419  0.92841729 0.90804747\n",
      " 0.8771858  0.92153434 0.93809063 0.93165414 0.95254483 0.88812412\n",
      " 0.88637547 0.87032145 0.88563137 0.90743359 0.91571173 0.89941588\n",
      " 0.91805566 0.9089404  0.9024853  0.89456061 0.91600938 0.9132934\n",
      " 0.88979835 0.86589404 0.89030062 0.90335962 0.89642086 0.91777662\n",
      " 0.93176576 0.94114145 0.95762334 0.96413424 0.96402262 0.96971501\n",
      " 0.95077759 0.96294367 0.96123223 0.95475854 0.95204256 0.95163331\n",
      " 0.95725128 0.93796041 0.93688146 0.92955205 0.94731751 0.94307612\n",
      " 0.96015329 0.98087655 0.98359253 0.97827219 0.98225314 0.98288563\n",
      " 0.98214153 0.979779   0.97849542 0.98182528 0.98245777 1.01045465]\n",
      "** X_test.append(inputs[15:75, 0]) \n",
      "\n",
      "--------------------------------------------------------------\n",
      "* inputs[16:76, 0] \n",
      "\n",
      "[0.98450406 0.96054394 0.9371419  0.92841729 0.90804747 0.8771858\n",
      " 0.92153434 0.93809063 0.93165414 0.95254483 0.88812412 0.88637547\n",
      " 0.87032145 0.88563137 0.90743359 0.91571173 0.89941588 0.91805566\n",
      " 0.9089404  0.9024853  0.89456061 0.91600938 0.9132934  0.88979835\n",
      " 0.86589404 0.89030062 0.90335962 0.89642086 0.91777662 0.93176576\n",
      " 0.94114145 0.95762334 0.96413424 0.96402262 0.96971501 0.95077759\n",
      " 0.96294367 0.96123223 0.95475854 0.95204256 0.95163331 0.95725128\n",
      " 0.93796041 0.93688146 0.92955205 0.94731751 0.94307612 0.96015329\n",
      " 0.98087655 0.98359253 0.97827219 0.98225314 0.98288563 0.98214153\n",
      " 0.979779   0.97849542 0.98182528 0.98245777 1.01045465 1.02407173]\n",
      "** X_test.append(inputs[16:76, 0]) \n",
      "\n",
      "--------------------------------------------------------------\n",
      "* inputs[17:77, 0] \n",
      "\n",
      "[0.96054394 0.9371419  0.92841729 0.90804747 0.8771858  0.92153434\n",
      " 0.93809063 0.93165414 0.95254483 0.88812412 0.88637547 0.87032145\n",
      " 0.88563137 0.90743359 0.91571173 0.89941588 0.91805566 0.9089404\n",
      " 0.9024853  0.89456061 0.91600938 0.9132934  0.88979835 0.86589404\n",
      " 0.89030062 0.90335962 0.89642086 0.91777662 0.93176576 0.94114145\n",
      " 0.95762334 0.96413424 0.96402262 0.96971501 0.95077759 0.96294367\n",
      " 0.96123223 0.95475854 0.95204256 0.95163331 0.95725128 0.93796041\n",
      " 0.93688146 0.92955205 0.94731751 0.94307612 0.96015329 0.98087655\n",
      " 0.98359253 0.97827219 0.98225314 0.98288563 0.98214153 0.979779\n",
      " 0.97849542 0.98182528 0.98245777 1.01045465 1.02407173 1.03930724]\n",
      "** X_test.append(inputs[17:77, 0]) \n",
      "\n",
      "--------------------------------------------------------------\n",
      "* inputs[18:78, 0] \n",
      "\n",
      "[0.9371419  0.92841729 0.90804747 0.8771858  0.92153434 0.93809063\n",
      " 0.93165414 0.95254483 0.88812412 0.88637547 0.87032145 0.88563137\n",
      " 0.90743359 0.91571173 0.89941588 0.91805566 0.9089404  0.9024853\n",
      " 0.89456061 0.91600938 0.9132934  0.88979835 0.86589404 0.89030062\n",
      " 0.90335962 0.89642086 0.91777662 0.93176576 0.94114145 0.95762334\n",
      " 0.96413424 0.96402262 0.96971501 0.95077759 0.96294367 0.96123223\n",
      " 0.95475854 0.95204256 0.95163331 0.95725128 0.93796041 0.93688146\n",
      " 0.92955205 0.94731751 0.94307612 0.96015329 0.98087655 0.98359253\n",
      " 0.97827219 0.98225314 0.98288563 0.98214153 0.979779   0.97849542\n",
      " 0.98182528 0.98245777 1.01045465 1.02407173 1.03930724 1.03354044]\n",
      "** X_test.append(inputs[18:78, 0]) \n",
      "\n",
      "--------------------------------------------------------------\n",
      "* inputs[19:79, 0] \n",
      "\n",
      "[0.92841729 0.90804747 0.8771858  0.92153434 0.93809063 0.93165414\n",
      " 0.95254483 0.88812412 0.88637547 0.87032145 0.88563137 0.90743359\n",
      " 0.91571173 0.89941588 0.91805566 0.9089404  0.9024853  0.89456061\n",
      " 0.91600938 0.9132934  0.88979835 0.86589404 0.89030062 0.90335962\n",
      " 0.89642086 0.91777662 0.93176576 0.94114145 0.95762334 0.96413424\n",
      " 0.96402262 0.96971501 0.95077759 0.96294367 0.96123223 0.95475854\n",
      " 0.95204256 0.95163331 0.95725128 0.93796041 0.93688146 0.92955205\n",
      " 0.94731751 0.94307612 0.96015329 0.98087655 0.98359253 0.97827219\n",
      " 0.98225314 0.98288563 0.98214153 0.979779   0.97849542 0.98182528\n",
      " 0.98245777 1.01045465 1.02407173 1.03930724 1.03354044 0.99624228]\n",
      "** X_test.append(inputs[19:79, 0]) \n",
      "\n",
      "--------------------------------------------------------------\n"
     ]
    }
   ],
   "source": [
    "X_test = []\n",
    "for i in range(60, 80):\n",
    "    print(f\"* inputs[{i-60}:{i}, 0] \\n\")\n",
    "    print(inputs[i-60:i, 0])\n",
    "    X_test.append(inputs[i-60:i, 0])\n",
    "    print(f\"** X_test.append(inputs[{i-60}:{i}, 0]) \\n\")\n",
    "    print(\"--------------------------------------------------------------\")\n"
   ]
  },
  {
   "cell_type": "code",
   "execution_count": 122,
   "metadata": {},
   "outputs": [
    {
     "name": "stdout",
     "output_type": "stream",
     "text": [
      "(20, 60)\n",
      "[[0.9299055  0.93113327 0.92750577 ... 0.95725128 0.93796041 0.93688146]\n",
      " [0.93113327 0.92750577 0.94415507 ... 0.93796041 0.93688146 0.92955205]\n",
      " [0.92750577 0.94415507 0.93876032 ... 0.93688146 0.92955205 0.94731751]\n",
      " ...\n",
      " [0.96054394 0.9371419  0.92841729 ... 1.01045465 1.02407173 1.03930724]\n",
      " [0.9371419  0.92841729 0.90804747 ... 1.02407173 1.03930724 1.03354044]\n",
      " [0.92841729 0.90804747 0.8771858  ... 1.03930724 1.03354044 0.99624228]]\n",
      "----------------------------------------------------\n",
      "(20, 60, 1)\n",
      "[[[0.9299055 ]\n",
      "  [0.93113327]\n",
      "  [0.92750577]\n",
      "  ...\n",
      "  [0.95725128]\n",
      "  [0.93796041]\n",
      "  [0.93688146]]\n",
      "\n",
      " [[0.93113327]\n",
      "  [0.92750577]\n",
      "  [0.94415507]\n",
      "  ...\n",
      "  [0.93796041]\n",
      "  [0.93688146]\n",
      "  [0.92955205]]\n",
      "\n",
      " [[0.92750577]\n",
      "  [0.94415507]\n",
      "  [0.93876032]\n",
      "  ...\n",
      "  [0.93688146]\n",
      "  [0.92955205]\n",
      "  [0.94731751]]\n",
      "\n",
      " ...\n",
      "\n",
      " [[0.96054394]\n",
      "  [0.9371419 ]\n",
      "  [0.92841729]\n",
      "  ...\n",
      "  [1.01045465]\n",
      "  [1.02407173]\n",
      "  [1.03930724]]\n",
      "\n",
      " [[0.9371419 ]\n",
      "  [0.92841729]\n",
      "  [0.90804747]\n",
      "  ...\n",
      "  [1.02407173]\n",
      "  [1.03930724]\n",
      "  [1.03354044]]\n",
      "\n",
      " [[0.92841729]\n",
      "  [0.90804747]\n",
      "  [0.8771858 ]\n",
      "  ...\n",
      "  [1.03930724]\n",
      "  [1.03354044]\n",
      "  [0.99624228]]]\n"
     ]
    }
   ],
   "source": [
    "X_test = np.array(X_test)\n",
    "print(X_test.shape) #(20, 60)\n",
    "print(X_test)\n",
    "print(\"----------------------------------------------------\")\n",
    "\n",
    "X_test = np.reshape(X_test, (X_test.shape[0], X_test.shape[1], 1))\n",
    "print(X_test.shape) #(20, 60, 1)\n",
    "print(X_test)\n"
   ]
  },
  {
   "cell_type": "code",
   "execution_count": 123,
   "metadata": {},
   "outputs": [
    {
     "name": "stdout",
     "output_type": "stream",
     "text": [
      "(20, 1)\n"
     ]
    },
    {
     "data": {
      "text/plain": [
       "array([[0.9208572 ],\n",
       "       [0.9158673 ],\n",
       "       [0.9174957 ],\n",
       "       [0.9200212 ],\n",
       "       [0.92608654],\n",
       "       [0.93668985],\n",
       "       [0.9449756 ],\n",
       "       [0.94684994],\n",
       "       [0.94669616],\n",
       "       [0.9464377 ],\n",
       "       [0.94650805],\n",
       "       [0.94650614],\n",
       "       [0.9466138 ],\n",
       "       [0.94812644],\n",
       "       [0.9500928 ],\n",
       "       [0.95966244],\n",
       "       [0.9721341 ],\n",
       "       [0.98440707],\n",
       "       [0.98924065],\n",
       "       [0.9787067 ]], dtype=float32)"
      ]
     },
     "execution_count": 123,
     "metadata": {},
     "output_type": "execute_result"
    }
   ],
   "source": [
    "predicted_stock_price = regressor.predict(X_test)#(20, 60, 1) -> (20, 1)\n",
    "print(predicted_stock_price.shape)\n",
    "predicted_stock_price\n"
   ]
  },
  {
   "cell_type": "code",
   "execution_count": 124,
   "metadata": {},
   "outputs": [
    {
     "name": "stdout",
     "output_type": "stream",
     "text": [
      "(20, 1)\n"
     ]
    },
    {
     "data": {
      "text/plain": [
       "array([[774.136  ],\n",
       "       [771.4536 ],\n",
       "       [772.329  ],\n",
       "       [773.6866 ],\n",
       "       [776.9471 ],\n",
       "       [782.647  ],\n",
       "       [787.1011 ],\n",
       "       [788.10864],\n",
       "       [788.02594],\n",
       "       [787.887  ],\n",
       "       [787.92487],\n",
       "       [787.9238 ],\n",
       "       [787.9817 ],\n",
       "       [788.7948 ],\n",
       "       [789.85187],\n",
       "       [794.9961 ],\n",
       "       [801.7004 ],\n",
       "       [808.29785],\n",
       "       [810.8962 ],\n",
       "       [805.2336 ]], dtype=float32)"
      ]
     },
     "execution_count": 124,
     "metadata": {},
     "output_type": "execute_result"
    }
   ],
   "source": [
    "predicted_stock_price = sc.inverse_transform(predicted_stock_price)\n",
    "print(predicted_stock_price.shape)\n",
    "predicted_stock_price"
   ]
  },
  {
   "cell_type": "markdown",
   "metadata": {},
   "source": [
    "### reference:  LSTM model \n",
    "```\n",
    "test_size = 24\n",
    "length  = 18\n",
    "n_features = 1\n",
    "train = df[:-test_size]\n",
    "test = df[-test_size:]\n",
    "scaler = MinMaxScaler()\n",
    "scaler.fit(train)\n",
    "scaled_train = scaler.transform(train)\n",
    "scaled_test = scaler.transform(test)\n",
    "\n",
    "```\n",
    "\n",
    "```\n",
    "generator = TimeseriesGenerator(scaled_train, scaled_train, length=length, batch_size=batch_size)\n",
    "```\n",
    "```\n",
    "model = Sequential()\n",
    "model.add(LSTM(100,input_shape=(length, n_features)))\n",
    "model.add(Dense(1))\n",
    "model.compile(optimizer='adam', loss='mse')\n",
    "```\n",
    "\n",
    "```\n",
    "early_stop = EarlyStopping(monitor='val_loss',patience=3) \n",
    "validation_generator = TimeseriesGenerator(scaled_test,scaled_test, length=length, batch_size=1)\n",
    "model.fit_generator(generator, epochs = 20,\n",
    "                   validation_data=validation_generator,\n",
    "                   callbacks=[early_stop])\n",
    "```\n",
    "\n",
    "```\n",
    "test_predictions =[]\n",
    "current_batch = scaled_train[-length:].reshape(1,length,n_features) \n",
    "\n",
    "for i in range(len(test)):\n",
    "    current_pred = model.predict(current_batch)[0]\n",
    "    test_predictions.append(current_pred)\n",
    "    current_batch = np.append(current_batch[:,1:,:],[[current_pred]],axis=1)\n",
    "\n",
    "```\n",
    "\n",
    "```\n",
    "true_predictions = scaler.inverse_transform(test_predictions)\n",
    "```\n"
   ]
  },
  {
   "cell_type": "markdown",
   "metadata": {},
   "source": [
    "[How to use Keras TimeseriesGenerator for time series data](https://www.dlology.com/blog/how-to-use-keras-timeseriesgenerator-for-time-series-data/)"
   ]
  },
  {
   "cell_type": "code",
   "execution_count": 110,
   "metadata": {},
   "outputs": [
    {
     "data": {
      "image/png": "[encoded data removed]",
      "text/plain": [
       "<Figure size 432x288 with 1 Axes>"
      ]
     },
     "metadata": {
      "needs_background": "light"
     },
     "output_type": "display_data"
    }
   ],
   "source": [
    "# Visualising the results\n",
    "\n",
    "#dataset_test -> real_stock_price -> (20, 1)\n",
    "plt.plot(real_stock_price, color = 'red', label = 'Real Google Stock Price') \n",
    "## predicted_stock_price = regressor.predict(X_test)#(20, 60, 1) -> (20, 1)\n",
    "#predicted_stock_price -> (20, 1)\n",
    "plt.plot(predicted_stock_price, color = 'blue', label = 'Predicted Google Stock Price')\n",
    "plt.title('Google Stock Price Prediction')\n",
    "plt.xlabel('Time')\n",
    "plt.ylabel('Google Stock Price')\n",
    "plt.legend()\n",
    "plt.show()"
   ]
  },
  {
   "cell_type": "code",
   "execution_count": null,
   "metadata": {},
   "outputs": [],
   "source": []
  },
  {
   "cell_type": "code",
   "execution_count": null,
   "metadata": {},
   "outputs": [],
   "source": []
  }
 ],
 "metadata": {
  "kernelspec": {
   "display_name": "Python 3",
   "language": "python",
   "name": "python3"
  },
  "language_info": {
   "codemirror_mode": {
    "name": "ipython",
    "version": 3
   },
   "file_extension": ".py",
   "mimetype": "text/x-python",
   "name": "python",
   "nbconvert_exporter": "python",
   "pygments_lexer": "ipython3",
   "version": "3.7.5"
  }
 },
 "nbformat": 4,
 "nbformat_minor": 2
}
